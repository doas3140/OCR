{
 "cells": [
  {
   "cell_type": "code",
   "execution_count": 1,
   "metadata": {},
   "outputs": [],
   "source": [
    "from fastai import *\n",
    "from fastai.vision import *\n",
    "import pandas as pd\n",
    "import numpy as np\n",
    "import cv2\n",
    "from tqdm.notebook import tqdm"
   ]
  },
  {
   "cell_type": "code",
   "execution_count": 2,
   "metadata": {},
   "outputs": [],
   "source": [
    "import matplotlib.pyplot as plt\n",
    "%matplotlib inline"
   ]
  },
  {
   "cell_type": "markdown",
   "metadata": {},
   "source": [
    "Download images from: https://pero.fit.vutbr.cz/brno_mobile_ocr_dataset  \n",
    "Place all images of lines in './data/lines/lines' directory"
   ]
  },
  {
   "cell_type": "markdown",
   "metadata": {},
   "source": [
    "### Prep"
   ]
  },
  {
   "cell_type": "code",
   "execution_count": 3,
   "metadata": {},
   "outputs": [
    {
     "data": {
      "text/html": [
       "<div>\n",
       "<style scoped>\n",
       "    .dataframe tbody tr th:only-of-type {\n",
       "        vertical-align: middle;\n",
       "    }\n",
       "\n",
       "    .dataframe tbody tr th {\n",
       "        vertical-align: top;\n",
       "    }\n",
       "\n",
       "    .dataframe thead th {\n",
       "        text-align: right;\n",
       "    }\n",
       "</style>\n",
       "<table border=\"1\" class=\"dataframe\">\n",
       "  <thead>\n",
       "    <tr style=\"text-align: right;\">\n",
       "      <th></th>\n",
       "      <th>image_path</th>\n",
       "    </tr>\n",
       "  </thead>\n",
       "  <tbody>\n",
       "    <tr>\n",
       "      <th>0</th>\n",
       "      <td>385ff8bcbdd78e3d0dfdeac34ea4707b.jpg_rec_l0001...</td>\n",
       "    </tr>\n",
       "    <tr>\n",
       "      <th>1</th>\n",
       "      <td>59cd3ea8d5ce8a8dc68f3b234fa042ed.jpg_rec_l0004...</td>\n",
       "    </tr>\n",
       "    <tr>\n",
       "      <th>2</th>\n",
       "      <td>5124eae8ab02cc2969d8e6040e47936f.jpg_rec_l0001...</td>\n",
       "    </tr>\n",
       "    <tr>\n",
       "      <th>3</th>\n",
       "      <td>9926efeb1d632fd629063831280e29eb.jpg_rec_l0020...</td>\n",
       "    </tr>\n",
       "    <tr>\n",
       "      <th>4</th>\n",
       "      <td>efb03b607fb7519922009e94d24a4729.jpg_rec_l0036...</td>\n",
       "    </tr>\n",
       "  </tbody>\n",
       "</table>\n",
       "</div>"
      ],
      "text/plain": [
       "                                          image_path\n",
       "0  385ff8bcbdd78e3d0dfdeac34ea4707b.jpg_rec_l0001...\n",
       "1  59cd3ea8d5ce8a8dc68f3b234fa042ed.jpg_rec_l0004...\n",
       "2  5124eae8ab02cc2969d8e6040e47936f.jpg_rec_l0001...\n",
       "3  9926efeb1d632fd629063831280e29eb.jpg_rec_l0020...\n",
       "4  efb03b607fb7519922009e94d24a4729.jpg_rec_l0036..."
      ]
     },
     "execution_count": 3,
     "metadata": {},
     "output_type": "execute_result"
    }
   ],
   "source": [
    "DATA_PATH = './data/lines/lines'\n",
    "filenames_df = pd.DataFrame(os.listdir(DATA_PATH), columns=['image_path'])\n",
    "filenames_df.head()"
   ]
  },
  {
   "cell_type": "code",
   "execution_count": 4,
   "metadata": {},
   "outputs": [
    {
     "data": {
      "text/plain": [
       "'./data/lines/test.easy'"
      ]
     },
     "execution_count": 4,
     "metadata": {},
     "output_type": "execute_result"
    }
   ],
   "source": [
    "os.path.join(*DATA_PATH.split('/')[:-1], 'test.easy')"
   ]
  },
  {
   "cell_type": "code",
   "execution_count": 5,
   "metadata": {},
   "outputs": [],
   "source": [
    "char_freq = {'o': 1569888, 'n': 1515187, '-': 51382, 'b': 279917, 'a': 1618519, 'r': 1352404, 'd': 719711, ' ': 3691055, 't': 1933635, 'h': 823710, 'e': 2671469, 'U': 14351, 'S': 67271, 'C': 49024, 'O': 24728, 'R': 34837, 'N': 25202, 'A': 62811, 'D': 33051, ';': 7379, 'p': 502009, 'l': 829767, 'y': 277609, 'M': 38905, 'u': 570659, 'm': 545063, 'i': 1625694, 's': 1424148, 'c': 795754, '.': 257760, 'w': 246878, 'T': 89020, ',': 203597, 'q': 36038, 'g': 395401, 'v': 230053, 'k': 88266, '(': 40365, 'I': 57046, 'L': 26083, 'E': 37532, 'f': 458787, '[': 17465, '4': 18396, ']': 17470, 'K': 8176, 'G': 16842, ':': 19122, ')': 42422, 'F': 36152, 'x': 65094, '3': 23449, 'P': 39701, '2': 34540, 'j': 19998, 'V': 9875, 'W': 23717, 'Y': 3595, 'B': 22024, 'z': 27491, '5': 16321, '\"': 8723, '1': 44710, '0': 38249, '%': 2807, 'Q': 2731, 'H': 18844, '9': 27550, '/': 6700, '6': 11875, '8': 11388, '7': 11412, 'J': 7056, \"'\": 13592, 'X': 4083, '=': 1268, '*': 491, '°': 274, '?': 1433, '+': 1036, '@': 249, '{': 397, '}': 332, '#': 164, 'Z': 2090, '!': 200, '$': 428, '_': 474, '§': 71, '~': 70, '©': 41, 'é': 126, '|': 68, '€': 6, '£': 49, '\\\\': 8, '®': 9}"
   ]
  },
  {
   "cell_type": "code",
   "execution_count": 6,
   "metadata": {},
   "outputs": [],
   "source": [
    "# char_freq"
   ]
  },
  {
   "cell_type": "code",
   "execution_count": 7,
   "metadata": {},
   "outputs": [
    {
     "data": {
      "text/plain": [
       "False"
      ]
     },
     "execution_count": 7,
     "metadata": {},
     "output_type": "execute_result"
    }
   ],
   "source": [
    "chars = [k for k in char_freq.keys()]\n",
    "label_delim = '`'\n",
    "label_delim in chars"
   ]
  },
  {
   "cell_type": "code",
   "execution_count": 8,
   "metadata": {},
   "outputs": [],
   "source": [
    "allowed_chars = set(chars + [label_delim]) - set(['©', '®', 'é'])"
   ]
  },
  {
   "cell_type": "code",
   "execution_count": 9,
   "metadata": {},
   "outputs": [
    {
     "data": {
      "text/plain": [
       "'q`w`e`r`t`y'"
      ]
     },
     "execution_count": 9,
     "metadata": {},
     "output_type": "execute_result"
    }
   ],
   "source": [
    "split_chars = lambda string, delim: ''.join([char+delim for char in string])[:-1]\n",
    "\n",
    "def preprocess_string(string):\n",
    "    string = string.replace('é', 'e')\n",
    "    string = string.replace('©', '°')\n",
    "    string = string.replace('®', '°')\n",
    "    string = split_chars(string, label_delim)\n",
    "    return string\n",
    "\n",
    "split_chars('qwerty', label_delim)"
   ]
  },
  {
   "cell_type": "code",
   "execution_count": 160,
   "metadata": {},
   "outputs": [
    {
     "data": {
      "text/html": [
       "<div>\n",
       "<style scoped>\n",
       "    .dataframe tbody tr th:only-of-type {\n",
       "        vertical-align: middle;\n",
       "    }\n",
       "\n",
       "    .dataframe tbody tr th {\n",
       "        vertical-align: top;\n",
       "    }\n",
       "\n",
       "    .dataframe thead th {\n",
       "        text-align: right;\n",
       "    }\n",
       "</style>\n",
       "<table border=\"1\" class=\"dataframe\">\n",
       "  <thead>\n",
       "    <tr style=\"text-align: right;\">\n",
       "      <th></th>\n",
       "      <th>image_path</th>\n",
       "      <th>string</th>\n",
       "      <th>info</th>\n",
       "      <th>valid</th>\n",
       "      <th>test</th>\n",
       "      <th>easy</th>\n",
       "      <th>medium</th>\n",
       "      <th>hard</th>\n",
       "    </tr>\n",
       "  </thead>\n",
       "  <tbody>\n",
       "    <tr>\n",
       "      <th>0</th>\n",
       "      <td>18256865b4b14a458cd50e19a6b6d09a.jpg_rec_l0022...</td>\n",
       "      <td>o`n`-`b`o`a`r`d` `t`h`e` `U`S`S` `C`O`R`O`N`A`...</td>\n",
       "      <td>train.easy</td>\n",
       "      <td>False</td>\n",
       "      <td>False</td>\n",
       "      <td>True</td>\n",
       "      <td>False</td>\n",
       "      <td>False</td>\n",
       "    </tr>\n",
       "    <tr>\n",
       "      <th>1</th>\n",
       "      <td>d2ac2da7d29d2384f6ff36e125264660.jpg_rec_l0016...</td>\n",
       "      <td>u`n`e`m`p`l`o`y`m`e`n`t` `i`n`s`u`r`a`n`c`e`.</td>\n",
       "      <td>train.easy</td>\n",
       "      <td>False</td>\n",
       "      <td>False</td>\n",
       "      <td>True</td>\n",
       "      <td>False</td>\n",
       "      <td>False</td>\n",
       "    </tr>\n",
       "    <tr>\n",
       "      <th>2</th>\n",
       "      <td>55ef7096ba457a8990e05dae3da29daf.jpg_rec_l0014...</td>\n",
       "      <td>b`o`u`n`d` `w`a`s` `c`a`l`c`u`l`a`t`e`d`.` `T`...</td>\n",
       "      <td>train.easy</td>\n",
       "      <td>False</td>\n",
       "      <td>False</td>\n",
       "      <td>True</td>\n",
       "      <td>False</td>\n",
       "      <td>False</td>\n",
       "    </tr>\n",
       "    <tr>\n",
       "      <th>3</th>\n",
       "      <td>145c6a2d996117b6453868116201e2e8.jpg_rec_l0050...</td>\n",
       "      <td>p`r`o`c`e`s`s` `e`l`e`m`e`n`t`s`,` `s`o` `t`h`...</td>\n",
       "      <td>train.easy</td>\n",
       "      <td>False</td>\n",
       "      <td>False</td>\n",
       "      <td>True</td>\n",
       "      <td>False</td>\n",
       "      <td>False</td>\n",
       "    </tr>\n",
       "    <tr>\n",
       "      <th>4</th>\n",
       "      <td>30b35d49bf5250d675bdb8e92b602db3.jpg_rec_l0002...</td>\n",
       "      <td>w`e` `h`a`v`e` `t`o` `s`k`o`l`e`m`i`s`e` `b`o`...</td>\n",
       "      <td>train.easy</td>\n",
       "      <td>False</td>\n",
       "      <td>False</td>\n",
       "      <td>True</td>\n",
       "      <td>False</td>\n",
       "      <td>False</td>\n",
       "    </tr>\n",
       "  </tbody>\n",
       "</table>\n",
       "</div>"
      ],
      "text/plain": [
       "                                          image_path  \\\n",
       "0  18256865b4b14a458cd50e19a6b6d09a.jpg_rec_l0022...   \n",
       "1  d2ac2da7d29d2384f6ff36e125264660.jpg_rec_l0016...   \n",
       "2  55ef7096ba457a8990e05dae3da29daf.jpg_rec_l0014...   \n",
       "3  145c6a2d996117b6453868116201e2e8.jpg_rec_l0050...   \n",
       "4  30b35d49bf5250d675bdb8e92b602db3.jpg_rec_l0002...   \n",
       "\n",
       "                                              string        info  valid  \\\n",
       "0  o`n`-`b`o`a`r`d` `t`h`e` `U`S`S` `C`O`R`O`N`A`...  train.easy  False   \n",
       "1      u`n`e`m`p`l`o`y`m`e`n`t` `i`n`s`u`r`a`n`c`e`.  train.easy  False   \n",
       "2  b`o`u`n`d` `w`a`s` `c`a`l`c`u`l`a`t`e`d`.` `T`...  train.easy  False   \n",
       "3  p`r`o`c`e`s`s` `e`l`e`m`e`n`t`s`,` `s`o` `t`h`...  train.easy  False   \n",
       "4  w`e` `h`a`v`e` `t`o` `s`k`o`l`e`m`i`s`e` `b`o`...  train.easy  False   \n",
       "\n",
       "    test  easy  medium   hard  \n",
       "0  False  True   False  False  \n",
       "1  False  True   False  False  \n",
       "2  False  True   False  False  \n",
       "3  False  True   False  False  \n",
       "4  False  True   False  False  "
      ]
     },
     "execution_count": 160,
     "metadata": {},
     "output_type": "execute_result"
    }
   ],
   "source": [
    "# from collections import defaultdict\n",
    "# chars = defaultdict(lambda: 0)\n",
    "\n",
    "data = []\n",
    "for data_split in ['train', 'valid', 'test']:\n",
    "    for difficulty in ['easy', 'medium', 'hard']:\n",
    "        data_info = data_split +'.'+ difficulty\n",
    "        with open(os.path.join(*DATA_PATH.split('/')[:-1], data_info), \"r\") as f:\n",
    "            lines = f.readlines()\n",
    "            for line in lines:\n",
    "                fn,*string = line[:-1].split(' ')\n",
    "                string = ' '.join(string)\n",
    "                string = preprocess_string(string)\n",
    "#                 for char in string:\n",
    "#                     if char not in allowed_chars:\n",
    "#                         print(char)\n",
    "#                         raise Exception(char + ' not in allowed chars')\n",
    "#                     chars[char] +=1\n",
    "\n",
    "                data.append((fn, string, data_info, 'valid' in data_info, 'test' in data_info, \n",
    "                             'easy' in data_info, 'medium' in data_info, 'hard' in data_info))\n",
    "\n",
    "df = pd.DataFrame(data, columns=['image_path', 'string', 'info', 'valid', 'test', 'easy', 'medium', 'hard'])\n",
    "main_df = df[ df['test'] == False ]\n",
    "main_df.head()"
   ]
  },
  {
   "cell_type": "code",
   "execution_count": 114,
   "metadata": {},
   "outputs": [
    {
     "data": {
      "text/plain": [
       "95"
      ]
     },
     "execution_count": 114,
     "metadata": {},
     "output_type": "execute_result"
    }
   ],
   "source": [
    "len(allowed_chars)"
   ]
  },
  {
   "cell_type": "code",
   "execution_count": 118,
   "metadata": {},
   "outputs": [
    {
     "data": {
      "text/html": [
       "<div>\n",
       "<style scoped>\n",
       "    .dataframe tbody tr th:only-of-type {\n",
       "        vertical-align: middle;\n",
       "    }\n",
       "\n",
       "    .dataframe tbody tr th {\n",
       "        vertical-align: top;\n",
       "    }\n",
       "\n",
       "    .dataframe thead th {\n",
       "        text-align: right;\n",
       "    }\n",
       "</style>\n",
       "<table border=\"1\" class=\"dataframe\">\n",
       "  <thead>\n",
       "    <tr style=\"text-align: right;\">\n",
       "      <th></th>\n",
       "      <th>image_path</th>\n",
       "      <th>string</th>\n",
       "      <th>info</th>\n",
       "      <th>valid</th>\n",
       "      <th>test</th>\n",
       "      <th>easy</th>\n",
       "      <th>medium</th>\n",
       "      <th>hard</th>\n",
       "    </tr>\n",
       "  </thead>\n",
       "  <tbody>\n",
       "    <tr>\n",
       "      <th>292736</th>\n",
       "      <td>23b23b3075effd455439adba989f4f73.jpg_rec_l0020...</td>\n",
       "      <td>W`W`W` `f`o`r`m`s` `i`s` `i`n` `p`r`e`p`a`r`a`...</td>\n",
       "      <td>train.easy</td>\n",
       "      <td>False</td>\n",
       "      <td>False</td>\n",
       "      <td>True</td>\n",
       "      <td>False</td>\n",
       "      <td>False</td>\n",
       "    </tr>\n",
       "    <tr>\n",
       "      <th>292737</th>\n",
       "      <td>96a11e5098fc7f91533b1b3359de95f1.jpg_rec_l0013...</td>\n",
       "      <td>a`g`e`n`t`s` `c`a`n` `a`d`o`p`t` `a`n` `F`S`P`...</td>\n",
       "      <td>train.easy</td>\n",
       "      <td>False</td>\n",
       "      <td>False</td>\n",
       "      <td>True</td>\n",
       "      <td>False</td>\n",
       "      <td>False</td>\n",
       "    </tr>\n",
       "    <tr>\n",
       "      <th>403744</th>\n",
       "      <td>045d00bc3b0f29e5e9811ffb119f760b.jpg_rec_l0000...</td>\n",
       "      <td>1`7`t`h` `I`n`t`e`r`n`a`t`i`o`n`a`l` `C`o`n`f`...</td>\n",
       "      <td>valid.easy</td>\n",
       "      <td>True</td>\n",
       "      <td>False</td>\n",
       "      <td>True</td>\n",
       "      <td>False</td>\n",
       "      <td>False</td>\n",
       "    </tr>\n",
       "    <tr>\n",
       "      <th>403745</th>\n",
       "      <td>6c2372ae79de6d843cdc4a4a9c505b99.jpg_rec_l0050...</td>\n",
       "      <td>t`h`e` `p`o`s`e` `o`f` `t`h`e` `o`b`j`e`c`t` `...</td>\n",
       "      <td>valid.easy</td>\n",
       "      <td>True</td>\n",
       "      <td>False</td>\n",
       "      <td>True</td>\n",
       "      <td>False</td>\n",
       "      <td>False</td>\n",
       "    </tr>\n",
       "  </tbody>\n",
       "</table>\n",
       "</div>"
      ],
      "text/plain": [
       "                                               image_path  \\\n",
       "292736  23b23b3075effd455439adba989f4f73.jpg_rec_l0020...   \n",
       "292737  96a11e5098fc7f91533b1b3359de95f1.jpg_rec_l0013...   \n",
       "403744  045d00bc3b0f29e5e9811ffb119f760b.jpg_rec_l0000...   \n",
       "403745  6c2372ae79de6d843cdc4a4a9c505b99.jpg_rec_l0050...   \n",
       "\n",
       "                                                   string        info  valid  \\\n",
       "292736  W`W`W` `f`o`r`m`s` `i`s` `i`n` `p`r`e`p`a`r`a`...  train.easy  False   \n",
       "292737  a`g`e`n`t`s` `c`a`n` `a`d`o`p`t` `a`n` `F`S`P`...  train.easy  False   \n",
       "403744  1`7`t`h` `I`n`t`e`r`n`a`t`i`o`n`a`l` `C`o`n`f`...  valid.easy   True   \n",
       "403745  t`h`e` `p`o`s`e` `o`f` `t`h`e` `o`b`j`e`c`t` `...  valid.easy   True   \n",
       "\n",
       "         test  easy  medium   hard  \n",
       "292736  False  True   False  False  \n",
       "292737  False  True   False  False  \n",
       "403744  False  True   False  False  \n",
       "403745  False  True   False  False  "
      ]
     },
     "execution_count": 118,
     "metadata": {},
     "output_type": "execute_result"
    }
   ],
   "source": [
    "# sparse_df = main_df[400000:411000]\n",
    "# sparse_df = easy_df[292736:292740]\n",
    "# sparse_df"
   ]
  },
  {
   "cell_type": "markdown",
   "metadata": {},
   "source": [
    "### Fast AI Databunch"
   ]
  },
  {
   "cell_type": "code",
   "execution_count": 326,
   "metadata": {},
   "outputs": [],
   "source": [
    "# label_delim = '`' # '<pad>''\n",
    "\n",
    "USE_DEFAULT_CLASSES = True\n",
    "\n",
    "class MultiCategoryProcessor(PreProcessor):\n",
    "    \"`PreProcessor` that create `classes` from `ds.items` and handle the mapping.\"\n",
    "    def __init__(self, ds:ItemList):\n",
    "        self.create_classes(ds.classes)\n",
    "        self.use_default_classes = USE_DEFAULT_CLASSES\n",
    "        self.default_classes = allowed_chars\n",
    "        \n",
    "    def create_classes(self, classes):\n",
    "        self.classes = classes\n",
    "        if classes is not None: self.c2i = {v:k for k,v in enumerate(classes)}\n",
    "\n",
    "    def process_one(self,item):\n",
    "        ''' list of chars from `MultiCategoryList.get()` '''\n",
    "        return [ self.c2i[c] if c in self.c2i else 0 for c in item ]\n",
    "    \n",
    "    def process(self, ds):\n",
    "        if self.classes is None: self.create_classes(self.generate_classes(ds.items))\n",
    "        ds.classes = self.classes\n",
    "        ds.c2i = self.c2i\n",
    "        super().process(ds)\n",
    "\n",
    "    def generate_classes(self, items):\n",
    "        ''' items = [ ['h', 'e', 'l', 'l', 'o'], [...], ...] '''\n",
    "        \"Generate classes from `items` by taking the sorted unique values.\"\n",
    "        if self.use_default_classes:\n",
    "            classes = list(self.default_classes)\n",
    "        else:\n",
    "            classes = set()\n",
    "            for c in items: classes = classes.union(set(c))\n",
    "            classes = list(classes)\n",
    "        classes.sort()\n",
    "        return [label_delim] + classes # CHANGED"
   ]
  },
  {
   "cell_type": "code",
   "execution_count": 327,
   "metadata": {},
   "outputs": [],
   "source": [
    "class MultiCategory(ItemBase):\n",
    "    \"Basic class for multi-classification labels.\"\n",
    "    def __init__(self, data, obj, raw): self.data, self.obj, self.raw = data, obj, raw\n",
    "    def __str__(self):  return label_delim.join([str(o) for o in self.obj])\n",
    "    def __hash__(self): return hash(str(self))"
   ]
  },
  {
   "cell_type": "code",
   "execution_count": 328,
   "metadata": {},
   "outputs": [],
   "source": [
    "def one_hot_text(x:Collection[int], c:int):\n",
    "    \"One-hot encode `x` with `c` classes.\"\n",
    "    ''' x w/ len of n returns [n,c] shape arr '''\n",
    "    res = np.zeros((len(x),c), np.float32)\n",
    "    res[np.arange(len(x)), listify(x)] = 1.\n",
    "    return res"
   ]
  },
  {
   "cell_type": "code",
   "execution_count": 329,
   "metadata": {},
   "outputs": [],
   "source": [
    "# doc(CategoryListBase)"
   ]
  },
  {
   "cell_type": "code",
   "execution_count": 330,
   "metadata": {},
   "outputs": [],
   "source": [
    "class MultiCategoryList(ItemList):\n",
    "    \"Basic `ItemList` for multi-classification labels.\"\n",
    "    _processor = MultiCategoryProcessor\n",
    "    def __init__(self, items:Iterator, classes:Collection=None, label_delim:str=None, one_hot:bool=False, **kwargs):\n",
    "        self.classes = classes\n",
    "        items = [line.split(label_delim) for line in items] # CHANGED\n",
    "        super().__init__(items, **kwargs)\n",
    "        self.processor = [MultiCategoryProcessor(self)]\n",
    "\n",
    "    def get(self, i):\n",
    "        o = self.items[i] # list of ints that represent chars\n",
    "        return MultiCategory(tensor(o), [self.classes[p] for p in o], o) # CHANGED\n",
    "\n",
    "    def analyze_pred(self, pred, thresh:float=0.5):\n",
    "        return (pred >= thresh).float()\n",
    "\n",
    "    def reconstruct(self, data_out):\n",
    "        if isinstance(data_out, list): # output of data\n",
    "            t_argmax, _, lengths = data_out\n",
    "        else: # output from nn\n",
    "            t_argmax = torch.argmax(data_out, axis=-1) # CHANGED\n",
    "#         t = data_out[0] if isinstance(data_out, list) else data_out # if train mode it returns tuple\n",
    "        ''' t [n,c] tensor '''\n",
    "        o = [int(i) for i in t_argmax] # CHANGED\n",
    "        return MultiCategory(one_hot_text(o, self.c), [self.classes[p] for p in o], o)\n",
    "    \n",
    "    @property\n",
    "    def c(self): return len(self.classes)"
   ]
  },
  {
   "cell_type": "code",
   "execution_count": 331,
   "metadata": {},
   "outputs": [],
   "source": [
    "# NOTE: make sure crnn is initialized (to make im2seq_data_collate work) ()\n",
    "# it needs image_width2seq_len method which needs cnn model\n",
    "\n",
    "crnn = CRNN(nclass=10)\n",
    "image_width2seq_len = lambda w: conv_output(w, crnn.strides, crnn.padding, crnn.kernels)\n",
    "# image_width2seq_len(129)\n",
    "\n",
    "def im2seq_data_collate(batch:ItemsList, pad_idx:int=0)->Tensor:\n",
    "    \"Convert `batch` items to tensor data.\"\n",
    "    data = to_data(batch) # list of (image, text) pairs\n",
    "    # image: [3,48,w], text: [n,c], where n's and w's are different\n",
    "    max_w = max([image.shape[2] for image, text in data])\n",
    "    max_h = max([image.shape[1] for image, text in data])\n",
    "    max_n = max([text.shape[0] for image, text in data])\n",
    "#     _, num_classes = data[0][1].shape\n",
    "    \n",
    "    images = torch.zeros(len(batch), 3, max_h, max_w)\n",
    "#     texts = torch.zeros(len(batch), max_n, num_classes)\n",
    "    texts = []\n",
    "    nn_out_seq_len, texts_len = [], []\n",
    "    for i, (image, text) in enumerate(data):\n",
    "        c,h,w = image.shape\n",
    "        images[i, : , : , :w ] = image\n",
    "        images[i, : , : , w: ] = image[:,:,w-1].unsqueeze(2).expand(c,h,max_w-w)\n",
    "        nn_out_seq_len.append( image_width2seq_len(w) )\n",
    "        n = text.size(0)\n",
    "        texts.append( tensor(text) )\n",
    "#         texts[i, :n , : ] = tensor(text)\n",
    "#         texts[i, n: , -1 ] = 1\n",
    "        texts_len.append(n)\n",
    "#     texts = torch.cat(texts, axis=0)\n",
    "    return images, (texts, tensor(nn_out_seq_len).type(torch.int), tensor(texts_len).type(torch.int))"
   ]
  },
  {
   "cell_type": "code",
   "execution_count": 332,
   "metadata": {},
   "outputs": [
    {
     "data": {
      "text/plain": [
       "'asdasdasdasdasdasdasdasdasdasdasdasdasdasdasdasdas\\ndasdasdasdasdasdasdasd'"
      ]
     },
     "execution_count": 332,
     "metadata": {},
     "output_type": "execute_result"
    }
   ],
   "source": [
    "def str2lines(string, n=50):\n",
    "    return ''.join([s+'\\n' if (i+1)%n == 0 else s for i,s in enumerate(string)])\n",
    "\n",
    "str2lines('asdasdasdasdasdasdasdasdasdasdasdasdasdasdasdasdasdasdasdasdasdasdasdasd')"
   ]
  },
  {
   "cell_type": "code",
   "execution_count": 333,
   "metadata": {},
   "outputs": [],
   "source": [
    "class MyImageList(ImageList):\n",
    "    def show_xys(self, xs, ys, imgsize:int=4, figsize:Optional[Tuple[int,int]]=None, **kwargs):\n",
    "        \"Show the `xs` (inputs) and `ys` (targets) on a figure of `figsize`.\"\n",
    "        rows = int(np.ceil(math.sqrt(len(xs))))\n",
    "        axs = subplots(rows, 1, imgsize=imgsize, figsize=figsize) # CHANGED rows -> 1\n",
    "        for x,y,ax in zip(xs, ys, axs.flatten()): x.show(ax=ax, y=y, **kwargs)\n",
    "        for ax in axs.flatten()[len(xs):]: ax.axis('off')\n",
    "        plt.tight_layout()\n",
    "        \n",
    "    def show_xyzs(self, xs, ys, zs, imgsize:int=20, figsize:Optional[Tuple[int,int]]=None, **kwargs):\n",
    "        \"Show `xs` (inputs), `ys` (targets) and `zs` (predictions) on a figure of `figsize`.\"\n",
    "#         if self._square_show_res:\n",
    "        title = 'Ground truth\\nPredictions'\n",
    "        rows = int(np.ceil(math.sqrt(len(xs))))\n",
    "        axs = subplots(rows, 1, imgsize=imgsize, figsize=figsize, title=title, weight='bold', size=12) # CHANGED rows -> 1\n",
    "        for x,y,z,ax in zip(xs,ys,zs,axs.flatten()):\n",
    "            x.show(ax=ax, title=f'y_true: {str2lines(str(y))}\\n\\ny_pred: {str2lines(str(z))}', **kwargs)\n",
    "        for ax in axs.flatten()[len(xs):]: ax.axis('off')\n",
    "#         else:\n",
    "#             title = 'Ground truth/Predictions'\n",
    "#             axs = subplots(len(xs), 2, imgsize=imgsize, figsize=figsize, title=title, weight='bold', size=14)\n",
    "#             for i,(x,y,z) in enumerate(zip(xs,ys,zs)):\n",
    "#                 x.show(ax=axs[i,0], y=y, **kwargs)\n",
    "#                 x.show(ax=axs[i,1], y=z, **kwargs)"
   ]
  },
  {
   "cell_type": "code",
   "execution_count": 334,
   "metadata": {},
   "outputs": [],
   "source": [
    "def create_data(df, bs=32):\n",
    "    ''' DataFrame (df) -> Dataloader (dl) '''\n",
    "    data = (MyImageList.from_df(df, path=DATA_PATH, cols='image_path')\n",
    "        .split_from_df(col='valid')\n",
    "        .label_from_df(cols='string', label_cls=MultiCategoryList, label_delim=label_delim)\n",
    "        .databunch(bs=bs, collate_fn=im2seq_data_collate)\n",
    "#         .normalize()\n",
    "    )\n",
    "    return data"
   ]
  },
  {
   "cell_type": "code",
   "execution_count": 335,
   "metadata": {},
   "outputs": [
    {
     "data": {
      "text/html": [
       "<div>\n",
       "<style scoped>\n",
       "    .dataframe tbody tr th:only-of-type {\n",
       "        vertical-align: middle;\n",
       "    }\n",
       "\n",
       "    .dataframe tbody tr th {\n",
       "        vertical-align: top;\n",
       "    }\n",
       "\n",
       "    .dataframe thead th {\n",
       "        text-align: right;\n",
       "    }\n",
       "</style>\n",
       "<table border=\"1\" class=\"dataframe\">\n",
       "  <thead>\n",
       "    <tr style=\"text-align: right;\">\n",
       "      <th></th>\n",
       "      <th>image_path</th>\n",
       "      <th>string</th>\n",
       "      <th>info</th>\n",
       "      <th>valid</th>\n",
       "      <th>test</th>\n",
       "      <th>easy</th>\n",
       "      <th>medium</th>\n",
       "      <th>hard</th>\n",
       "    </tr>\n",
       "  </thead>\n",
       "  <tbody>\n",
       "    <tr>\n",
       "      <th>0</th>\n",
       "      <td>18256865b4b14a458cd50e19a6b6d09a.jpg_rec_l0022...</td>\n",
       "      <td>o`n`-`b`o`a`r`d` `t`h`e` `U`S`S` `C`O`R`O`N`A`...</td>\n",
       "      <td>train.easy</td>\n",
       "      <td>False</td>\n",
       "      <td>False</td>\n",
       "      <td>True</td>\n",
       "      <td>False</td>\n",
       "      <td>False</td>\n",
       "    </tr>\n",
       "    <tr>\n",
       "      <th>1</th>\n",
       "      <td>d2ac2da7d29d2384f6ff36e125264660.jpg_rec_l0016...</td>\n",
       "      <td>u`n`e`m`p`l`o`y`m`e`n`t` `i`n`s`u`r`a`n`c`e`.</td>\n",
       "      <td>train.easy</td>\n",
       "      <td>False</td>\n",
       "      <td>False</td>\n",
       "      <td>True</td>\n",
       "      <td>False</td>\n",
       "      <td>False</td>\n",
       "    </tr>\n",
       "    <tr>\n",
       "      <th>2</th>\n",
       "      <td>55ef7096ba457a8990e05dae3da29daf.jpg_rec_l0014...</td>\n",
       "      <td>b`o`u`n`d` `w`a`s` `c`a`l`c`u`l`a`t`e`d`.` `T`...</td>\n",
       "      <td>train.easy</td>\n",
       "      <td>False</td>\n",
       "      <td>False</td>\n",
       "      <td>True</td>\n",
       "      <td>False</td>\n",
       "      <td>False</td>\n",
       "    </tr>\n",
       "    <tr>\n",
       "      <th>3</th>\n",
       "      <td>145c6a2d996117b6453868116201e2e8.jpg_rec_l0050...</td>\n",
       "      <td>p`r`o`c`e`s`s` `e`l`e`m`e`n`t`s`,` `s`o` `t`h`...</td>\n",
       "      <td>train.easy</td>\n",
       "      <td>False</td>\n",
       "      <td>False</td>\n",
       "      <td>True</td>\n",
       "      <td>False</td>\n",
       "      <td>False</td>\n",
       "    </tr>\n",
       "    <tr>\n",
       "      <th>4</th>\n",
       "      <td>30b35d49bf5250d675bdb8e92b602db3.jpg_rec_l0002...</td>\n",
       "      <td>w`e` `h`a`v`e` `t`o` `s`k`o`l`e`m`i`s`e` `b`o`...</td>\n",
       "      <td>train.easy</td>\n",
       "      <td>False</td>\n",
       "      <td>False</td>\n",
       "      <td>True</td>\n",
       "      <td>False</td>\n",
       "      <td>False</td>\n",
       "    </tr>\n",
       "    <tr>\n",
       "      <th>...</th>\n",
       "      <td>...</td>\n",
       "      <td>...</td>\n",
       "      <td>...</td>\n",
       "      <td>...</td>\n",
       "      <td>...</td>\n",
       "      <td>...</td>\n",
       "      <td>...</td>\n",
       "      <td>...</td>\n",
       "    </tr>\n",
       "    <tr>\n",
       "      <th>442164</th>\n",
       "      <td>3132b7ece56a7040c878fa31175c1171.jpg_rec_l0013...</td>\n",
       "      <td>t`o` `c`o`m`p`a`r`e` `i`t` `q`u`a`n`t`i`t`a`t`...</td>\n",
       "      <td>valid.easy</td>\n",
       "      <td>True</td>\n",
       "      <td>False</td>\n",
       "      <td>True</td>\n",
       "      <td>False</td>\n",
       "      <td>False</td>\n",
       "    </tr>\n",
       "    <tr>\n",
       "      <th>442165</th>\n",
       "      <td>64ebbdfed227f9d6dff17a40b4c3d088.jpg_rec_l0023...</td>\n",
       "      <td>c`o`n`v`e`r`t` `a`n` `a`b`s`o`l`u`t`e` `v`a`l`...</td>\n",
       "      <td>valid.easy</td>\n",
       "      <td>True</td>\n",
       "      <td>False</td>\n",
       "      <td>True</td>\n",
       "      <td>False</td>\n",
       "      <td>False</td>\n",
       "    </tr>\n",
       "    <tr>\n",
       "      <th>442166</th>\n",
       "      <td>55a5d7253836d4cb9d46778ab0c1c3e4.jpg_rec_l0028...</td>\n",
       "      <td>p`u`t` `i`s` `s`t`o`c`h`a`s`t`i`c` `a`n`d` `n`...</td>\n",
       "      <td>valid.easy</td>\n",
       "      <td>True</td>\n",
       "      <td>False</td>\n",
       "      <td>True</td>\n",
       "      <td>False</td>\n",
       "      <td>False</td>\n",
       "    </tr>\n",
       "    <tr>\n",
       "      <th>442167</th>\n",
       "      <td>b6eff21e9ce0200fc760238cf3ef0ea8.jpg_rec_l0043...</td>\n",
       "      <td>a` `g`i`v`e`n` `s`e`q`u`e`n`c`e` `o`f` `f`r`a`...</td>\n",
       "      <td>valid.easy</td>\n",
       "      <td>True</td>\n",
       "      <td>False</td>\n",
       "      <td>True</td>\n",
       "      <td>False</td>\n",
       "      <td>False</td>\n",
       "    </tr>\n",
       "    <tr>\n",
       "      <th>442168</th>\n",
       "      <td>6e73e29742e2fcd22c4fca78d667e0bc.jpg_rec_l0006...</td>\n",
       "      <td>I`n` `t`h`e` `m`u`s`i`c` `t`r`a`n`s`c`r`i`p`t`...</td>\n",
       "      <td>valid.easy</td>\n",
       "      <td>True</td>\n",
       "      <td>False</td>\n",
       "      <td>True</td>\n",
       "      <td>False</td>\n",
       "      <td>False</td>\n",
       "    </tr>\n",
       "  </tbody>\n",
       "</table>\n",
       "<p>331163 rows × 8 columns</p>\n",
       "</div>"
      ],
      "text/plain": [
       "                                               image_path  \\\n",
       "0       18256865b4b14a458cd50e19a6b6d09a.jpg_rec_l0022...   \n",
       "1       d2ac2da7d29d2384f6ff36e125264660.jpg_rec_l0016...   \n",
       "2       55ef7096ba457a8990e05dae3da29daf.jpg_rec_l0014...   \n",
       "3       145c6a2d996117b6453868116201e2e8.jpg_rec_l0050...   \n",
       "4       30b35d49bf5250d675bdb8e92b602db3.jpg_rec_l0002...   \n",
       "...                                                   ...   \n",
       "442164  3132b7ece56a7040c878fa31175c1171.jpg_rec_l0013...   \n",
       "442165  64ebbdfed227f9d6dff17a40b4c3d088.jpg_rec_l0023...   \n",
       "442166  55a5d7253836d4cb9d46778ab0c1c3e4.jpg_rec_l0028...   \n",
       "442167  b6eff21e9ce0200fc760238cf3ef0ea8.jpg_rec_l0043...   \n",
       "442168  6e73e29742e2fcd22c4fca78d667e0bc.jpg_rec_l0006...   \n",
       "\n",
       "                                                   string        info  valid  \\\n",
       "0       o`n`-`b`o`a`r`d` `t`h`e` `U`S`S` `C`O`R`O`N`A`...  train.easy  False   \n",
       "1           u`n`e`m`p`l`o`y`m`e`n`t` `i`n`s`u`r`a`n`c`e`.  train.easy  False   \n",
       "2       b`o`u`n`d` `w`a`s` `c`a`l`c`u`l`a`t`e`d`.` `T`...  train.easy  False   \n",
       "3       p`r`o`c`e`s`s` `e`l`e`m`e`n`t`s`,` `s`o` `t`h`...  train.easy  False   \n",
       "4       w`e` `h`a`v`e` `t`o` `s`k`o`l`e`m`i`s`e` `b`o`...  train.easy  False   \n",
       "...                                                   ...         ...    ...   \n",
       "442164  t`o` `c`o`m`p`a`r`e` `i`t` `q`u`a`n`t`i`t`a`t`...  valid.easy   True   \n",
       "442165  c`o`n`v`e`r`t` `a`n` `a`b`s`o`l`u`t`e` `v`a`l`...  valid.easy   True   \n",
       "442166  p`u`t` `i`s` `s`t`o`c`h`a`s`t`i`c` `a`n`d` `n`...  valid.easy   True   \n",
       "442167  a` `g`i`v`e`n` `s`e`q`u`e`n`c`e` `o`f` `f`r`a`...  valid.easy   True   \n",
       "442168  I`n` `t`h`e` `m`u`s`i`c` `t`r`a`n`s`c`r`i`p`t`...  valid.easy   True   \n",
       "\n",
       "         test  easy  medium   hard  \n",
       "0       False  True   False  False  \n",
       "1       False  True   False  False  \n",
       "2       False  True   False  False  \n",
       "3       False  True   False  False  \n",
       "4       False  True   False  False  \n",
       "...       ...   ...     ...    ...  \n",
       "442164  False  True   False  False  \n",
       "442165  False  True   False  False  \n",
       "442166  False  True   False  False  \n",
       "442167  False  True   False  False  \n",
       "442168  False  True   False  False  \n",
       "\n",
       "[331163 rows x 8 columns]"
      ]
     },
     "execution_count": 335,
     "metadata": {},
     "output_type": "execute_result"
    }
   ],
   "source": [
    "# NOTE: there are no {'\\\\', '£', '€'} in easy_df\n",
    "easy_df = main_df[ main_df['easy'] ]\n",
    "easy_df"
   ]
  },
  {
   "cell_type": "markdown",
   "metadata": {},
   "source": [
    "### Dataloaders for testing"
   ]
  },
  {
   "cell_type": "code",
   "execution_count": 403,
   "metadata": {},
   "outputs": [
    {
     "data": {
      "application/vnd.jupyter.widget-view+json": {
       "model_id": "13508a9df771429e9b82360211133aa2",
       "version_major": 2,
       "version_minor": 0
      },
      "text/plain": [
       "HBox(children=(IntProgress(value=0, max=3), HTML(value='')))"
      ]
     },
     "metadata": {},
     "output_type": "display_data"
    },
    {
     "name": "stdout",
     "output_type": "stream",
     "text": [
      "\n"
     ]
    }
   ],
   "source": [
    "valid_dls = {}\n",
    "for difficulty in tqdm(['easy', 'medium', 'hard']):\n",
    "    temp_df = main_df.copy()\n",
    "    temp_df['valid'] = (main_df[difficulty] == True) & (main_df['valid'] == True)\n",
    "    valid_dls[difficulty] = create_data(temp_df).valid_dl"
   ]
  },
  {
   "cell_type": "code",
   "execution_count": 404,
   "metadata": {},
   "outputs": [
    {
     "data": {
      "text/plain": [
       "(1201, 372, 56)"
      ]
     },
     "execution_count": 404,
     "metadata": {},
     "output_type": "execute_result"
    }
   ],
   "source": [
    "len(valid_dls['easy']), len(valid_dls['medium']), len(valid_dls['hard']) # total = this * batch_size"
   ]
  },
  {
   "cell_type": "markdown",
   "metadata": {},
   "source": [
    "### Train data"
   ]
  },
  {
   "cell_type": "code",
   "execution_count": 336,
   "metadata": {},
   "outputs": [
    {
     "data": {
      "text/plain": [
       "ImageDataBunch;\n",
       "\n",
       "Train: LabelList (292738 items)\n",
       "x: MyImageList\n",
       "Image (3, 48, 641),Image (3, 48, 294),Image (3, 48, 721),Image (3, 48, 538),Image (3, 48, 879)\n",
       "y: MultiCategoryList\n",
       "o`n`-`b`o`a`r`d` `t`h`e` `U`S`S` `C`O`R`O`N`A`D`O`;` `a` `d`e`p`l`o`y`a`b`l`e` `C`M`O`C,u`n`e`m`p`l`o`y`m`e`n`t` `i`n`s`u`r`a`n`c`e`.,b`o`u`n`d` `w`a`s` `c`a`l`c`u`l`a`t`e`d`.` `T`h`e` `u`p`p`e`r` `b`o`u`n`d` `w`a`s` `c`a`l`c`u`l`a`t`e`d` `b`y,p`r`o`c`e`s`s` `e`l`e`m`e`n`t`s`,` `s`o` `t`h`a`t` `t`h`e` `r`e`q`u`e`s`t`o`r` `a`g`e`n`t,w`e` `h`a`v`e` `t`o` `s`k`o`l`e`m`i`s`e` `b`o`t`h` `u`s`i`n`g` `t`h`e` `s`a`m`e` `s`k`o`l`e`m` `c`o`n`s`t`a`n`t`s` `(`w`h`i`c`h` `r`e`s`u`l`t`s` `i`n` `t`h`e\n",
       "Path: data/lines/lines;\n",
       "\n",
       "Valid: LabelList (38425 items)\n",
       "x: MyImageList\n",
       "Image (3, 48, 818),Image (3, 48, 436),Image (3, 48, 941),Image (3, 48, 496),Image (3, 48, 659)\n",
       "y: MultiCategoryList\n",
       "1`7`t`h` `I`n`t`e`r`n`a`t`i`o`n`a`l` `C`o`n`f`e`r`e`n`c`e` `o`n` `A`r`t`i`f`i`c`i`a`l` `R`e`a`l`i`t`y` `a`n`d` `T`e`l`e`x`i`s`t`e`n`c`e` `2`0`0`7,t`h`e` `p`o`s`e` `o`f` `t`h`e` `o`b`j`e`c`t` `i`n` `t`h`e` `f`i`r`s`t` `f`r`a`m`e`.,s`u`b`j`e`c`t` `r`e`g`i`s`t`r`a`t`i`o`n` `t`e`c`h`n`o`l`o`g`y` `t`h`a`t` `e`n`a`b`l`e`s` `t`h`e` `c`o`m`p`a`r`i`s`o`n` `o`f` `l`a`r`g`e` `n`u`m`b`e`r`s` `o`f,A`.` `O`v`e`r`v`i`e`w` `a`n`d` `i`n`t`r`o`d`u`c`t`i`o`n` `(`S`o`a`t`t`o`),n`o`t` `i`n`v`e`s`t`i`g`a`t`e` `e`v`o`l`u`t`i`o`n`a`r`y` `a`d`a`p`t`a`t`i`o`n` `(`i`.`e`.`,` `M`O`N`S`O`O`N`)`;\n",
       "Path: data/lines/lines;\n",
       "\n",
       "Test: None"
      ]
     },
     "execution_count": 336,
     "metadata": {},
     "output_type": "execute_result"
    }
   ],
   "source": [
    "data = create_data(easy_df, bs=16)\n",
    "data"
   ]
  },
  {
   "cell_type": "code",
   "execution_count": 337,
   "metadata": {},
   "outputs": [
    {
     "data": {
      "text/plain": [
       "96"
      ]
     },
     "execution_count": 337,
     "metadata": {},
     "output_type": "execute_result"
    }
   ],
   "source": [
    "data.c"
   ]
  },
  {
   "cell_type": "code",
   "execution_count": 338,
   "metadata": {},
   "outputs": [
    {
     "data": {
      "image/jpeg": "[encoded data removed]",
      "image/png": "[encoded data removed]",
      "text/plain": [
       "Image (3, 48, 641)"
      ]
     },
     "execution_count": 338,
     "metadata": {},
     "output_type": "execute_result"
    }
   ],
   "source": [
    "data.x[0]"
   ]
  },
  {
   "cell_type": "code",
   "execution_count": 339,
   "metadata": {},
   "outputs": [
    {
     "data": {
      "text/plain": [
       "MultiCategory o`n`-`b`o`a`r`d` `t`h`e` `U`S`S` `C`O`R`O`N`A`D`O`;` `a` `d`e`p`l`o`y`a`b`l`e` `C`M`O`C"
      ]
     },
     "execution_count": 339,
     "metadata": {},
     "output_type": "execute_result"
    }
   ],
   "source": [
    "data.y[0]"
   ]
  },
  {
   "cell_type": "code",
   "execution_count": 340,
   "metadata": {},
   "outputs": [
    {
     "data": {
      "text/plain": [
       "tensor([76, 75, 13, 63, 76, 62, 79, 65,  1, 81, 69, 66,  1, 51, 49, 49,  1, 33,\n",
       "        45, 48, 45, 44, 31, 34, 45, 27,  1, 62,  1, 65, 66, 77, 73, 76, 86, 62,\n",
       "        63, 73, 66,  1, 33, 43, 45, 33])"
      ]
     },
     "execution_count": 340,
     "metadata": {},
     "output_type": "execute_result"
    }
   ],
   "source": [
    "data.y[0].data"
   ]
  },
  {
   "cell_type": "markdown",
   "metadata": {},
   "source": [
    "### Model"
   ]
  },
  {
   "cell_type": "code",
   "execution_count": 341,
   "metadata": {},
   "outputs": [
    {
     "data": {
      "text/plain": [
       "torch.Size([100, 100, 100])"
      ]
     },
     "execution_count": 341,
     "metadata": {},
     "output_type": "execute_result"
    }
   ],
   "source": [
    "class LSTM(nn.Module):\n",
    "\n",
    "    def __init__(self, input_size, num_hidden, num_output, bidirectional=True):\n",
    "        super(LSTM, self).__init__()\n",
    "        \n",
    "        self.rnn = nn.LSTM(input_size, num_hidden, bidirectional=bidirectional)\n",
    "        mult = 1 if not bidirectional else 2\n",
    "        self.embedding = nn.Linear(num_hidden * mult, num_output)\n",
    "\n",
    "    def forward(self, input):\n",
    "        # input: (seq_len, batch, input_size)\n",
    "        recurrent, _ = self.rnn(input) # [s, b, h]\n",
    "        output = self.embedding(recurrent)  # [s, b, out]\n",
    "        \n",
    "#         s, b, h = recurrent.size()\n",
    "#         t_rec = recurrent.view(s * b, h)\n",
    "#         output = self.embedding(t_rec)  # [T * b, nOut]\n",
    "#         output = output.view(s, b, -1)\n",
    "        \n",
    "        # output: (seq_len, batch, output_size)\n",
    "        return output\n",
    "\n",
    "LSTM(10, num_hidden=20, num_output=100)(torch.zeros(100,100,10)).shape"
   ]
  },
  {
   "cell_type": "code",
   "execution_count": 342,
   "metadata": {},
   "outputs": [
    {
     "data": {
      "text/plain": [
       "31"
      ]
     },
     "execution_count": 342,
     "metadata": {},
     "output_type": "execute_result"
    }
   ],
   "source": [
    "def conv_output(w, ss, ps=None, ks=3):\n",
    "    ''' image width, strides, pools, kernel sizes '''\n",
    "    for s,p,k in zip(ss,ps,ks):\n",
    "        s = s[1] if isinstance(s, tuple) else s\n",
    "        w = w if w%s == 0 else w + 1\n",
    "        w = (w - k + 2*p)/s + 1 if p is not None else w/s\n",
    "    return int(w)\n",
    "\n",
    "conv_output(129, [2, 1, 2, 1, (2,1), (2,1), 1], [None] * 6 + [0], [3, 3, 3, 3, 3, 3, 3])"
   ]
  },
  {
   "cell_type": "code",
   "execution_count": 343,
   "metadata": {},
   "outputs": [
    {
     "data": {
      "text/plain": [
       "torch.Size([2, 30, 10])"
      ]
     },
     "execution_count": 343,
     "metadata": {},
     "output_type": "execute_result"
    }
   ],
   "source": [
    "class CRNN(nn.Module):\n",
    "\n",
    "    def __init__(self, nclass, nc=3, nh=256, n_rnn=2, leakyRelu=False):\n",
    "        super(CRNN, self).__init__()\n",
    "        self.nclass = nclass\n",
    "        kernels = [3, 3, 3, 3, 3, 3, 3]\n",
    "        strides = [2, 1, 2, 1, (2,1), (2,1), 1]\n",
    "        channels = [64, 128, 256, 256, 512, 512, 512]\n",
    "        padding = [None] * 6 + [0] # None - out size doesnt change\n",
    "        \n",
    "        self.kernels, self.strides, self.channels, self.padding = kernels, strides, channels, padding\n",
    "        \n",
    "        layers = []\n",
    "        for i,o,k,s,p in zip([3] + channels[:-1], channels, kernels, strides, padding):\n",
    "            layers.append( conv_layer(ni=i, nf=o, ks=k, stride=s, padding=p) )\n",
    "            \n",
    "        self.cnn = nn.Sequential(*layers)\n",
    "        \n",
    "        self.rnn = nn.Sequential(LSTM(512, nh, nh), LSTM(nh, nh, nclass))\n",
    "        \n",
    "        self.linear = nn.Linear(512, nclass)\n",
    "        \n",
    "#     def eval(self): # (quick fix) model.eval() returns bad outputs w/ BatchNorm \n",
    "#         return self\n",
    "\n",
    "    def forward(self, x): # input: [b, 1, h, w]\n",
    "        # output: ([b,s,c], [b]) (output, seq lengths)\n",
    "        x = self.cnn(x) # [b,512,1,w/4-2]\n",
    "        b, c, h, w = x.size()\n",
    "        assert h == 1, \"the height of conv must be 1\"\n",
    "        # [b,512,1,w] -> [s,b,512] (w == s)\n",
    "        x = x.squeeze(2).permute(2, 0, 1) # [b,c,w] (w == s)\n",
    "        # [s,b,512] -> [s,b,c]\n",
    "        x = self.rnn(x)\n",
    "#         x = self.linear(x)\n",
    "#         nn_output = (x, pad_mask)\n",
    "        return x.permute(1,0,2)\n",
    "\n",
    "CRNN(nclass=10)(torch.zeros(2,3,48,128)).shape"
   ]
  },
  {
   "cell_type": "code",
   "execution_count": 344,
   "metadata": {
    "scrolled": true
   },
   "outputs": [
    {
     "data": {
      "text/plain": [
       "31"
      ]
     },
     "execution_count": 344,
     "metadata": {},
     "output_type": "execute_result"
    }
   ],
   "source": [
    "crnn = CRNN(nclass=10)\n",
    "image_width2seq_len = lambda w: conv_output(w, crnn.strides, crnn.padding, crnn.kernels)\n",
    "image_width2seq_len(129)"
   ]
  },
  {
   "cell_type": "markdown",
   "metadata": {},
   "source": [
    "### Learner"
   ]
  },
  {
   "cell_type": "code",
   "execution_count": 345,
   "metadata": {},
   "outputs": [],
   "source": [
    "crnn = CRNN(nclass=data.c)\n",
    "\n",
    "def weights_init(m):\n",
    "    classname = m.__class__.__name__\n",
    "    if classname.find('Conv') != -1:\n",
    "        m.weight.data.normal_(0.0, 0.02)\n",
    "    elif classname.find('BatchNorm') != -1:\n",
    "        m.weight.data.normal_(1.0, 0.02)\n",
    "        m.bias.data.fill_(0)\n",
    "        \n",
    "# _ = crnn.apply(weights_init)"
   ]
  },
  {
   "cell_type": "code",
   "execution_count": 347,
   "metadata": {},
   "outputs": [],
   "source": [
    "pad_idx = data.classes.index(label_delim)\n",
    "ctc_loss = nn.CTCLoss(blank=pad_idx, reduction='mean', zero_infinity=True)\n",
    "\n",
    "def loss_func(y_pred, y_true, y_pred_len, y_true_len):\n",
    "    # y_pred: [b,s_e,c], y_true: [[s_d], [s_d], ...], lengths: [b]\n",
    "    b, s_e, c = y_pred.shape\n",
    "    y_true = torch.cat(y_true, axis=0) # [b*s_d]\n",
    "    y_pred = y_pred.log_softmax(axis=2).permute(1,0,2) # [ s_e, b, c ]\n",
    "    torch.backends.cudnn.enabled = False\n",
    "    loss = ctc_loss(y_pred, y_true, y_pred_len, y_true_len)\n",
    "    torch.backends.cudnn.enabled = True\n",
    "    return loss"
   ]
  },
  {
   "cell_type": "code",
   "execution_count": 348,
   "metadata": {},
   "outputs": [],
   "source": [
    "def print_metric(y_pred, y_true):\n",
    "#     o = y_pred.argmax(-1)[0].cpu().numpy()\n",
    "#     print('PRED:', MultiCategory(one_hot_text(o, data.c), [data.classes[p] for p in o], o))\n",
    "#     o = y_true.argmax(-1)[0].cpu().numpy()\n",
    "#     print('TRUE:', MultiCategory(one_hot_text(o, data.c), [data.classes[p] for p in o], o))\n",
    "    return tensor(0)"
   ]
  },
  {
   "cell_type": "code",
   "execution_count": 383,
   "metadata": {},
   "outputs": [],
   "source": [
    "learner = Learner(data, crnn, loss_func=loss_func, path='./models', # model path\n",
    "#                   opt_func = lambda input_: AdamW(input_, correct_bias=False), \n",
    "                  metrics=[])\n",
    "learner.callbacks.append(ShowGraph(learner))\n",
    "\n",
    "# learner.show_results(DatasetType.Train, rows=1)"
   ]
  },
  {
   "cell_type": "code",
   "execution_count": 392,
   "metadata": {},
   "outputs": [],
   "source": [
    "# NOTE: to save/load there is 2 options:\n",
    "# 1. save state (saved in './models/models/')\n",
    "\n",
    "# learner.save('crnn')\n",
    "# learner.load('crnn')\n",
    "\n",
    "# 2. save exported model for inference (saved in './models/')\n",
    "\n",
    "# learner.export('crnn_exported')\n",
    "# load_learner(path='./models', file='crnn_exported')"
   ]
  },
  {
   "cell_type": "code",
   "execution_count": 384,
   "metadata": {},
   "outputs": [
    {
     "data": {
      "text/html": [],
      "text/plain": [
       "<IPython.core.display.HTML object>"
      ]
     },
     "metadata": {},
     "output_type": "display_data"
    },
    {
     "name": "stdout",
     "output_type": "stream",
     "text": [
      "LR Finder is complete, type {learner_name}.recorder.plot() to see the graph.\n",
      "Min numerical gradient: 6.31E-07\n",
      "Min loss divided by 10: 1.32E-03\n"
     ]
    },
    {
     "data": {
      "image/png": "[encoded data removed]",
      "text/plain": [
       "<Figure size 432x288 with 1 Axes>"
      ]
     },
     "metadata": {
      "needs_background": "light"
     },
     "output_type": "display_data"
    }
   ],
   "source": [
    "learner.lr_find()\n",
    "learner.recorder.plot(skip_end=7,suggestion=True)"
   ]
  },
  {
   "cell_type": "code",
   "execution_count": 424,
   "metadata": {},
   "outputs": [],
   "source": [
    "learner.fit_one_cycle(1, max_lr=1e-4)"
   ]
  },
  {
   "cell_type": "code",
   "execution_count": 450,
   "metadata": {},
   "outputs": [],
   "source": [
    "learner.save('crnn')"
   ]
  },
  {
   "cell_type": "code",
   "execution_count": 449,
   "metadata": {},
   "outputs": [],
   "source": [
    "learner.export('crnn_exported')"
   ]
  },
  {
   "cell_type": "markdown",
   "metadata": {},
   "source": [
    "### Examples"
   ]
  },
  {
   "cell_type": "code",
   "execution_count": 428,
   "metadata": {},
   "outputs": [],
   "source": [
    "learner = Learner(data, CRNN(data.c), loss_func=loss_func, path='./models', metrics=[]).load('crnn')"
   ]
  },
  {
   "cell_type": "code",
   "execution_count": 1258,
   "metadata": {},
   "outputs": [],
   "source": [
    "# learner.show_results(DatasetType.Train, rows=1) # DOESNT WORK"
   ]
  },
  {
   "cell_type": "code",
   "execution_count": 429,
   "metadata": {},
   "outputs": [],
   "source": [
    "def decode(texts, classes=data.classes):\n",
    "    \"\"\" convert text-index into text-label. \"\"\"\n",
    "    out = []\n",
    "    index = 0\n",
    "    for t in texts:\n",
    "        char_list = []\n",
    "        for i in range(len(t)):\n",
    "            if t[i] != 0 and (not (i > 0 and t[i - 1] == t[i])):  # removing repeated characters and blank.\n",
    "                char_list.append(t[i])\n",
    "#         text = ''.join(char_list)\n",
    "\n",
    "        out.append(tensor(char_list))\n",
    "    return out"
   ]
  },
  {
   "cell_type": "code",
   "execution_count": 430,
   "metadata": {},
   "outputs": [],
   "source": [
    "dl = iter(valid_dls['easy'])"
   ]
  },
  {
   "cell_type": "code",
   "execution_count": 448,
   "metadata": {},
   "outputs": [
    {
     "data": {
      "text/plain": [
       "'generating at least some of these complex mappings. However, suggesting a template for a mapping expression which'"
      ]
     },
     "execution_count": 448,
     "metadata": {},
     "output_type": "execute_result"
    }
   ],
   "source": [
    "''.join([data.classes[i] for i in decode([o])[0]])"
   ]
  },
  {
   "cell_type": "code",
   "execution_count": 441,
   "metadata": {},
   "outputs": [
    {
     "name": "stdout",
     "output_type": "stream",
     "text": [
      "PRED: ``````g`````e`````n`````e`````r```a`````t`i`i```n`````g`g``` ` ```a```t``` ` `l`````e```a`a```s```t`t``` ```s`````o`````m`````````e````` ```o`o```f``` ` `t`t`h`h`````e`````s`````e``` ` ```c`````o`````m`````````p`````l```e`````x````` ` ```m`````````a`````p`````p`````i```n`n```g`g`````s```.` ` ```H`````````o`````w`````````e`````v`````e```r`r```,` ` ```s`````u`````g`````g`g`````e```s```t`t`i`i```n`````g`g``` ` ```a``` ` `t`````e```m`m```````p`p```l`````a```t```e`e``` ` `f`````o```r`r``` ` `a````` ` ```m`````````a`````p`````p`````i```n`````g`g``` ` ```e`````x`````p`````r`````e```s`s```s```i`i```o`````n````` ` ```w`````h`h`````i```c`````h``````````````\n",
      "TRUE: g`e`n`e`r`a`t`i`n`g` `a`t` `l`e`a`s`t` `s`o`m`e` `o`f` `t`h`e`s`e` `c`o`m`p`l`e`x` `m`a`p`p`i`n`g`s`.` `H`o`w`e`v`e`r`,` `s`u`g`g`e`s`t`i`n`g` `a` `t`e`m`p`l`a`t`e` `f`o`r` `a` `m`a`p`p`i`n`g` `e`x`p`r`e`s`s`i`o`n` `w`h`i`c`h\n"
     ]
    },
    {
     "data": {
      "image/png": "[encoded data removed]",
      "text/plain": [
       "<Figure size 1440x144 with 1 Axes>"
      ]
     },
     "metadata": {
      "needs_background": "light"
     },
     "output_type": "display_data"
    }
   ],
   "source": [
    "model = learner.model\n",
    "model = model.eval()\n",
    "a = next(dl)\n",
    "i = 1\n",
    "y_pred = model(a[0])\n",
    "o = y_pred.argmax(-1)[i].cpu().numpy()\n",
    "print('PRED:', MultiCategory(one_hot_text(o, data.c), [data.classes[p] for p in o], o))\n",
    "print('TRUE:', MultiCategory(a[1], [data.classes[p] for p in a[1][0][i]], o))\n",
    "plt.figure(figsize = (20,2))\n",
    "_ = plt.imshow(a[0][i].permute(1,2,0).cpu().numpy(), interpolation='nearest')"
   ]
  },
  {
   "cell_type": "markdown",
   "metadata": {},
   "source": [
    "### Eval"
   ]
  },
  {
   "cell_type": "code",
   "execution_count": 432,
   "metadata": {},
   "outputs": [],
   "source": [
    "def calc_precision_recall(true_words, pred_words):\n",
    "    num_preds, num_trues = len(pred_words), len(true_words)\n",
    "    \n",
    "    correct = 0\n",
    "    for true_word in true_words:\n",
    "        if true_word in pred_words:\n",
    "            pred_words.remove(true_word)\n",
    "            correct += 1\n",
    "            continue\n",
    "\n",
    "    precision = correct / num_preds\n",
    "    recall = correct / num_trues\n",
    "    # print(precision, recall, correct, num_preds)\n",
    "    return precision, recall"
   ]
  },
  {
   "cell_type": "code",
   "execution_count": 433,
   "metadata": {},
   "outputs": [
    {
     "data": {
      "text/plain": [
       "(0.09090909090909091, 0.25)"
      ]
     },
     "execution_count": 433,
     "metadata": {},
     "output_type": "execute_result"
    }
   ],
   "source": [
    "def wer(s1,s2):\n",
    "    ''' s1 - true text, s2 - pred text '''\n",
    "    d = np.zeros([len(s1)+1,len(s2)+1])\n",
    "    d[:,0] = np.arange(len(s1)+1)\n",
    "    d[0,:] = np.arange(len(s2)+1)\n",
    "\n",
    "    for j in range(1,len(s2)+1):\n",
    "        for i in range(1,len(s1)+1):\n",
    "            if s1[i-1] == s2[j-1]:\n",
    "                d[i,j] = d[i-1,j-1]\n",
    "            else:\n",
    "                d[i,j] = min(d[i-1,j]+1, d[i,j-1]+1, d[i-1,j-1]+1)\n",
    "\n",
    "    return d[-1,-1]/len(s1)\n",
    "\n",
    "word_error = wer( 'black frog jumped away'.split(' '), 'black frog jumped awayyy'.split(' ') )\n",
    "char_error = wer( 'black frog jumped away', 'black frog jumped awayyy' )\n",
    "char_error, word_error"
   ]
  },
  {
   "cell_type": "code",
   "execution_count": 434,
   "metadata": {},
   "outputs": [],
   "source": [
    "def idx2text(indexes):\n",
    "    for i in indexes:\n",
    "        try:\n",
    "            data.classes[i]\n",
    "        except:\n",
    "            print('asd', i)\n",
    "    return ''.join([data.classes[i] for i in indexes])"
   ]
  },
  {
   "cell_type": "code",
   "execution_count": 435,
   "metadata": {},
   "outputs": [],
   "source": [
    "def evaluate_model(model, dl, t2list=lambda t: list(t.cpu().numpy()), total=None):\n",
    "    total = len(dl) if total is None else total\n",
    "    ps, rs, ws, cs = [], [], [], []\n",
    "    for images, (texts, im_lens, text_lens) in tqdm(iter(dl), total=total):\n",
    "        y_pred = model(images).argmax(-1)\n",
    "        pred_texts = decode(y_pred)\n",
    "        for true_words, pred_words in zip(texts, pred_texts): # go through batch\n",
    "            true_words, pred_words = t2list(true_words), t2list(pred_words)\n",
    "            true_str, pred_str = idx2text(true_words), idx2text(pred_words)\n",
    "            p,r = calc_precision_recall(true_words, pred_words)\n",
    "            c = wer(true_str, pred_str)\n",
    "            w = wer(true_str.split(' '), pred_str.split(' '))\n",
    "            ps.append(p); rs.append(r); ws.append(w); cs.append(c)\n",
    "    return np.array(ps), np.array(rs), np.array(ws), np.array(cs)\n",
    "\n",
    "# p, r, w, c = evaluate_model(learner.model.train(), data.valid_dl)"
   ]
  },
  {
   "cell_type": "code",
   "execution_count": 436,
   "metadata": {},
   "outputs": [],
   "source": [
    "model = learner.model.eval()"
   ]
  },
  {
   "cell_type": "code",
   "execution_count": 439,
   "metadata": {},
   "outputs": [
    {
     "data": {
      "application/vnd.jupyter.widget-view+json": {
       "model_id": "d3753ffc677c4657a14470a766f72384",
       "version_major": 2,
       "version_minor": 0
      },
      "text/plain": [
       "HBox(children=(IntProgress(value=0, max=1201), HTML(value='')))"
      ]
     },
     "metadata": {},
     "output_type": "display_data"
    },
    {
     "name": "stdout",
     "output_type": "stream",
     "text": [
      "\n"
     ]
    },
    {
     "data": {
      "text/plain": [
       "(0.010869185466280502,\n",
       " 0.0464731053252202,\n",
       " 0.9921651441767915,\n",
       " 0.9924249771710288)"
      ]
     },
     "execution_count": 439,
     "metadata": {},
     "output_type": "execute_result"
    }
   ],
   "source": [
    "p, r, w, c = evaluate_model(model, valid_dls['easy'])\n",
    "c.mean(), w.mean(), p.mean(), r.mean()"
   ]
  },
  {
   "cell_type": "code",
   "execution_count": 438,
   "metadata": {},
   "outputs": [
    {
     "data": {
      "application/vnd.jupyter.widget-view+json": {
       "model_id": "7081599e068746cfb8c418802894db29",
       "version_major": 2,
       "version_minor": 0
      },
      "text/plain": [
       "HBox(children=(IntProgress(value=0, max=372), HTML(value='')))"
      ]
     },
     "metadata": {},
     "output_type": "display_data"
    },
    {
     "name": "stdout",
     "output_type": "stream",
     "text": [
      "\n"
     ]
    },
    {
     "data": {
      "text/plain": [
       "(0.14536296892645892,\n",
       " 0.41660727441948536,\n",
       " 0.9119427285550357,\n",
       " 0.903531098792705)"
      ]
     },
     "execution_count": 438,
     "metadata": {},
     "output_type": "execute_result"
    }
   ],
   "source": [
    "p, r, w, c = evaluate_model(model, valid_dls['medium'])\n",
    "c.mean(), w.mean(), p.mean(), r.mean()"
   ]
  },
  {
   "cell_type": "code",
   "execution_count": 437,
   "metadata": {},
   "outputs": [
    {
     "data": {
      "application/vnd.jupyter.widget-view+json": {
       "model_id": "3aad95fee3c747bc9a75ee5e7196f6f9",
       "version_major": 2,
       "version_minor": 0
      },
      "text/plain": [
       "HBox(children=(IntProgress(value=0, max=56), HTML(value='')))"
      ]
     },
     "metadata": {},
     "output_type": "display_data"
    },
    {
     "name": "stdout",
     "output_type": "stream",
     "text": [
      "\n"
     ]
    },
    {
     "data": {
      "text/plain": [
       "(0.539507447840884, 0.9313218057082575, 0.716972570661273, 0.6759358122278971)"
      ]
     },
     "execution_count": 437,
     "metadata": {},
     "output_type": "execute_result"
    }
   ],
   "source": [
    "p, r, w, c = evaluate_model(model, valid_dls['hard'])\n",
    "c.mean(), w.mean(), p.mean(), r.mean()"
   ]
  },
  {
   "cell_type": "code",
   "execution_count": null,
   "metadata": {},
   "outputs": [],
   "source": []
  }
 ],
 "metadata": {
  "kernelspec": {
   "display_name": "nlp",
   "language": "python",
   "name": "nlp"
  },
  "language_info": {
   "codemirror_mode": {
    "name": "ipython",
    "version": 3
   },
   "file_extension": ".py",
   "mimetype": "text/x-python",
   "name": "python",
   "nbconvert_exporter": "python",
   "pygments_lexer": "ipython3",
   "version": "3.7.5"
  }
 },
 "nbformat": 4,
 "nbformat_minor": 2
}
